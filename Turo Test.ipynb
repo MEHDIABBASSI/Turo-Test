{
 "cells": [
  {
   "cell_type": "code",
   "execution_count": 203,
   "id": "5372a6bb",
   "metadata": {},
   "outputs": [],
   "source": [
    "# Importing libraries\n",
    "\n",
    "import pandas as pd\n",
    "import seaborn as sn\n",
    "import matplotlib.pyplot as plt\n",
    "import numpy as np\n",
    "from scipy.stats import pearsonr\n",
    "from scipy.stats import mannwhitneyu\n"
   ]
  },
  {
   "cell_type": "code",
   "execution_count": 204,
   "id": "c2fe6d23",
   "metadata": {},
   "outputs": [
    {
     "data": {
      "text/html": [
       "<div>\n",
       "<style scoped>\n",
       "    .dataframe tbody tr th:only-of-type {\n",
       "        vertical-align: middle;\n",
       "    }\n",
       "\n",
       "    .dataframe tbody tr th {\n",
       "        vertical-align: top;\n",
       "    }\n",
       "\n",
       "    .dataframe thead th {\n",
       "        text-align: right;\n",
       "    }\n",
       "</style>\n",
       "<table border=\"1\" class=\"dataframe\">\n",
       "  <thead>\n",
       "    <tr style=\"text-align: right;\">\n",
       "      <th></th>\n",
       "      <th>vehicle_id</th>\n",
       "      <th>technology</th>\n",
       "      <th>actual_price</th>\n",
       "      <th>recommended_price</th>\n",
       "      <th>num_images</th>\n",
       "      <th>street_parked</th>\n",
       "      <th>description</th>\n",
       "    </tr>\n",
       "  </thead>\n",
       "  <tbody>\n",
       "    <tr>\n",
       "      <th>0</th>\n",
       "      <td>1</td>\n",
       "      <td>1</td>\n",
       "      <td>67.85</td>\n",
       "      <td>59</td>\n",
       "      <td>5</td>\n",
       "      <td>0</td>\n",
       "      <td>7</td>\n",
       "    </tr>\n",
       "    <tr>\n",
       "      <th>1</th>\n",
       "      <td>2</td>\n",
       "      <td>0</td>\n",
       "      <td>100.70</td>\n",
       "      <td>53</td>\n",
       "      <td>5</td>\n",
       "      <td>0</td>\n",
       "      <td>224</td>\n",
       "    </tr>\n",
       "    <tr>\n",
       "      <th>2</th>\n",
       "      <td>3</td>\n",
       "      <td>0</td>\n",
       "      <td>74.00</td>\n",
       "      <td>74</td>\n",
       "      <td>4</td>\n",
       "      <td>1</td>\n",
       "      <td>21</td>\n",
       "    </tr>\n",
       "    <tr>\n",
       "      <th>3</th>\n",
       "      <td>4</td>\n",
       "      <td>0</td>\n",
       "      <td>135.00</td>\n",
       "      <td>75</td>\n",
       "      <td>1</td>\n",
       "      <td>0</td>\n",
       "      <td>184</td>\n",
       "    </tr>\n",
       "    <tr>\n",
       "      <th>4</th>\n",
       "      <td>5</td>\n",
       "      <td>0</td>\n",
       "      <td>59.36</td>\n",
       "      <td>53</td>\n",
       "      <td>2</td>\n",
       "      <td>1</td>\n",
       "      <td>31</td>\n",
       "    </tr>\n",
       "  </tbody>\n",
       "</table>\n",
       "</div>"
      ],
      "text/plain": [
       "   vehicle_id  technology  actual_price  recommended_price  num_images  \\\n",
       "0           1           1         67.85                 59           5   \n",
       "1           2           0        100.70                 53           5   \n",
       "2           3           0         74.00                 74           4   \n",
       "3           4           0        135.00                 75           1   \n",
       "4           5           0         59.36                 53           2   \n",
       "\n",
       "   street_parked  description  \n",
       "0              0            7  \n",
       "1              0          224  \n",
       "2              1           21  \n",
       "3              0          184  \n",
       "4              1           31  "
      ]
     },
     "execution_count": 204,
     "metadata": {},
     "output_type": "execute_result"
    }
   ],
   "source": [
    "# Importing the first table of data (vehicles)\n",
    "# Please make sure to change the path according to the file placement\n",
    "\n",
    "path = \"/Users/mehdi/Downloads/Data Science Case Study/\"\n",
    "vehicles = pd.read_csv(path + \"vehicles.csv\")\n",
    "vehicles.head()"
   ]
  },
  {
   "cell_type": "code",
   "execution_count": 205,
   "id": "4109caaa",
   "metadata": {
    "scrolled": true
   },
   "outputs": [
    {
     "name": "stdout",
     "output_type": "stream",
     "text": [
      "<class 'pandas.core.frame.DataFrame'>\n",
      "RangeIndex: 1000 entries, 0 to 999\n",
      "Data columns (total 7 columns):\n",
      " #   Column             Non-Null Count  Dtype  \n",
      "---  ------             --------------  -----  \n",
      " 0   vehicle_id         1000 non-null   int64  \n",
      " 1   technology         1000 non-null   int64  \n",
      " 2   actual_price       1000 non-null   float64\n",
      " 3   recommended_price  1000 non-null   int64  \n",
      " 4   num_images         1000 non-null   int64  \n",
      " 5   street_parked      1000 non-null   int64  \n",
      " 6   description        1000 non-null   int64  \n",
      "dtypes: float64(1), int64(6)\n",
      "memory usage: 54.8 KB\n"
     ]
    }
   ],
   "source": [
    "# General information about the dataframe\n",
    "\n",
    "vehicles.info()"
   ]
  },
  {
   "cell_type": "markdown",
   "id": "3ab28a30",
   "metadata": {},
   "source": [
    "# Descriptif analysis"
   ]
  },
  {
   "cell_type": "code",
   "execution_count": 206,
   "id": "fa1730f0",
   "metadata": {
    "scrolled": true
   },
   "outputs": [
    {
     "data": {
      "text/html": [
       "<div>\n",
       "<style scoped>\n",
       "    .dataframe tbody tr th:only-of-type {\n",
       "        vertical-align: middle;\n",
       "    }\n",
       "\n",
       "    .dataframe tbody tr th {\n",
       "        vertical-align: top;\n",
       "    }\n",
       "\n",
       "    .dataframe thead th {\n",
       "        text-align: right;\n",
       "    }\n",
       "</style>\n",
       "<table border=\"1\" class=\"dataframe\">\n",
       "  <thead>\n",
       "    <tr style=\"text-align: right;\">\n",
       "      <th></th>\n",
       "      <th>actual_price</th>\n",
       "      <th>recommended_price</th>\n",
       "      <th>num_images</th>\n",
       "      <th>description</th>\n",
       "    </tr>\n",
       "  </thead>\n",
       "  <tbody>\n",
       "    <tr>\n",
       "      <th>count</th>\n",
       "      <td>1000.000000</td>\n",
       "      <td>1000.000000</td>\n",
       "      <td>1000.000000</td>\n",
       "      <td>1000.000000</td>\n",
       "    </tr>\n",
       "    <tr>\n",
       "      <th>mean</th>\n",
       "      <td>87.940730</td>\n",
       "      <td>62.206000</td>\n",
       "      <td>3.008000</td>\n",
       "      <td>90.792000</td>\n",
       "    </tr>\n",
       "    <tr>\n",
       "      <th>std</th>\n",
       "      <td>29.724589</td>\n",
       "      <td>16.082544</td>\n",
       "      <td>1.348983</td>\n",
       "      <td>76.948644</td>\n",
       "    </tr>\n",
       "    <tr>\n",
       "      <th>min</th>\n",
       "      <td>32.760000</td>\n",
       "      <td>35.000000</td>\n",
       "      <td>1.000000</td>\n",
       "      <td>1.000000</td>\n",
       "    </tr>\n",
       "    <tr>\n",
       "      <th>25%</th>\n",
       "      <td>64.942500</td>\n",
       "      <td>49.000000</td>\n",
       "      <td>2.000000</td>\n",
       "      <td>25.000000</td>\n",
       "    </tr>\n",
       "    <tr>\n",
       "      <th>50%</th>\n",
       "      <td>83.930000</td>\n",
       "      <td>62.000000</td>\n",
       "      <td>3.000000</td>\n",
       "      <td>57.500000</td>\n",
       "    </tr>\n",
       "    <tr>\n",
       "      <th>75%</th>\n",
       "      <td>107.010000</td>\n",
       "      <td>76.000000</td>\n",
       "      <td>4.000000</td>\n",
       "      <td>158.000000</td>\n",
       "    </tr>\n",
       "    <tr>\n",
       "      <th>max</th>\n",
       "      <td>174.440000</td>\n",
       "      <td>90.000000</td>\n",
       "      <td>5.000000</td>\n",
       "      <td>250.000000</td>\n",
       "    </tr>\n",
       "  </tbody>\n",
       "</table>\n",
       "</div>"
      ],
      "text/plain": [
       "       actual_price  recommended_price   num_images  description\n",
       "count   1000.000000        1000.000000  1000.000000  1000.000000\n",
       "mean      87.940730          62.206000     3.008000    90.792000\n",
       "std       29.724589          16.082544     1.348983    76.948644\n",
       "min       32.760000          35.000000     1.000000     1.000000\n",
       "25%       64.942500          49.000000     2.000000    25.000000\n",
       "50%       83.930000          62.000000     3.000000    57.500000\n",
       "75%      107.010000          76.000000     4.000000   158.000000\n",
       "max      174.440000          90.000000     5.000000   250.000000"
      ]
     },
     "execution_count": 206,
     "metadata": {},
     "output_type": "execute_result"
    }
   ],
   "source": [
    "# Statisticals information about the numerical features\n",
    "\n",
    "vehicles[[\"actual_price\", \"recommended_price\", \"num_images\", \"description\"]].describe()"
   ]
  },
  {
   "cell_type": "markdown",
   "id": "e85e15dd",
   "metadata": {},
   "source": [
    "#### Univariable analysis\n",
    "\n",
    "In this first stage of the analysis we will start by analyzing each variable in an independant way to have a first idea about the distributions. "
   ]
  },
  {
   "cell_type": "code",
   "execution_count": 207,
   "id": "cd2e7521",
   "metadata": {},
   "outputs": [
    {
     "data": {
      "text/plain": [
       "0    83.0\n",
       "1    17.0\n",
       "Name: technology, dtype: float64"
      ]
     },
     "execution_count": 207,
     "metadata": {},
     "output_type": "execute_result"
    }
   ],
   "source": [
    "# The percentage of the vehicules with technologie installed\n",
    "\n",
    "vehicles[\"technology\"].value_counts()*100/vehicles.shape[0]"
   ]
  },
  {
   "cell_type": "code",
   "execution_count": 208,
   "id": "617b01f6",
   "metadata": {},
   "outputs": [
    {
     "data": {
      "text/plain": [
       "Text(0.5, 1.0, 'The distribution of the actual price over the 1000 vehicles')"
      ]
     },
     "execution_count": 208,
     "metadata": {},
     "output_type": "execute_result"
    },
    {
     "data": {
      "image/png": "[encoded data removed]",
      "text/plain": [
       "<Figure size 640x480 with 1 Axes>"
      ]
     },
     "metadata": {},
     "output_type": "display_data"
    }
   ],
   "source": [
    "# The distribution of the actual price over the 1000 vehicles\n",
    "\n",
    "sn.boxplot(y = \"actual_price\", data = vehicles, color = \"brown\")\n",
    "plt.title(\"The distribution of the actual price over the 1000 vehicles\")"
   ]
  },
  {
   "cell_type": "markdown",
   "id": "933bd6ed",
   "metadata": {},
   "source": [
    "According to the box plot and the statistical table above :  \n",
    "\n",
    "- The median price is 84\\$\n",
    "- 25\\% of the vehicles are priced between 32\\\\$ and 64\\$   \n",
    "- 50\\% of the vehicles are priced between 64\\\\$ and 107\\$  \n",
    "- The rest is priced between 107\\\\$ and 174\\$  \n",
    "- The lenght of the upper quartile of the box is big compared to the other quartiles, indicating that the upper quartile of the data is spread out over a wider range of price.\n",
    "\n"
   ]
  },
  {
   "cell_type": "code",
   "execution_count": 209,
   "id": "7205e519",
   "metadata": {
    "scrolled": false
   },
   "outputs": [
    {
     "data": {
      "text/plain": [
       "Text(0.5, 1.0, 'The distribution of the recommended price over the 1000 vehicles')"
      ]
     },
     "execution_count": 209,
     "metadata": {},
     "output_type": "execute_result"
    },
    {
     "data": {
      "image/png": "[encoded data removed]",
      "text/plain": [
       "<Figure size 640x480 with 1 Axes>"
      ]
     },
     "metadata": {},
     "output_type": "display_data"
    }
   ],
   "source": [
    "# The distribution of the recommended price over the 1000 vehicles\n",
    "\n",
    "sn.boxplot(y = \"recommended_price\", data = vehicles)\n",
    "plt.title(\"The distribution of the recommended price over the 1000 vehicles\")"
   ]
  },
  {
   "cell_type": "markdown",
   "id": "2153eddb",
   "metadata": {},
   "source": [
    "According to the box plot and the statistical table above :  \n",
    "\n",
    "- The median recommended price is 62\\$\n",
    "- 25\\% of the vehicles are priced between 35\\\\$ and 49\\$   \n",
    "- 50\\% of the vehicles are priced between 49\\\\$ and 76\\$  \n",
    "- The rest is priced between 76\\\\$ and 90\\$  "
   ]
  },
  {
   "cell_type": "code",
   "execution_count": 210,
   "id": "f43d143b",
   "metadata": {
    "scrolled": false
   },
   "outputs": [
    {
     "data": {
      "text/plain": [
       "Text(0.5, 1.0, 'The distribution of the number of images over the 1000 vehicles')"
      ]
     },
     "execution_count": 210,
     "metadata": {},
     "output_type": "execute_result"
    },
    {
     "data": {
      "image/png": "[encoded data removed]",
      "text/plain": [
       "<Figure size 640x480 with 1 Axes>"
      ]
     },
     "metadata": {},
     "output_type": "display_data"
    }
   ],
   "source": [
    "# The distribution of the number of images over the 1000 vehicles\n",
    "\n",
    "sn.boxplot(y = \"num_images\", data = vehicles, color = \"green\")\n",
    "plt.title(\"The distribution of the number of images over the 1000 vehicles\")"
   ]
  },
  {
   "cell_type": "markdown",
   "id": "28c2abef",
   "metadata": {},
   "source": [
    "According to the box plot above : \n",
    "\n",
    "- The median number of images per car is 3 images\n",
    "- 25\\% of the cars have between 1 and 2 images   \n",
    "- 50\\% of the cars have between 2 and 4 images   \n",
    "- The rest have between 4 and 5 images\n"
   ]
  },
  {
   "cell_type": "code",
   "execution_count": 211,
   "id": "f6432df1",
   "metadata": {},
   "outputs": [
    {
     "data": {
      "text/plain": [
       "Text(0.5, 1.0, 'The distribution of the lenght of the description over the 1000 vehicles')"
      ]
     },
     "execution_count": 211,
     "metadata": {},
     "output_type": "execute_result"
    },
    {
     "data": {
      "image/png": "[encoded data removed]",
      "text/plain": [
       "<Figure size 640x480 with 1 Axes>"
      ]
     },
     "metadata": {},
     "output_type": "display_data"
    }
   ],
   "source": [
    "# The distribution of the lenght of the description over the 1000 vehicles\n",
    "\n",
    "sn.boxplot(y = \"description\", data = vehicles, color = \"yellow\")\n",
    "plt.title(\"The distribution of the lenght of the description over the 1000 vehicles\")"
   ]
  },
  {
   "cell_type": "markdown",
   "id": "6f709b9f",
   "metadata": {},
   "source": [
    "According to the box plot above : \n",
    "\n",
    "- The median number of characters of the car description inputted by the owner is 57 characters\n",
    "- 25\\% of the descriptions have between 1 and 25 characters   \n",
    "- 50\\% of the descriptions have between 25 and 158 characters   \n",
    "- The rest of the descriptions have between 158 and 258 characters\n",
    "- The upper half of the box is considerably bigger than the lower half, which indicates that 50% of the \n",
    "descriptions are spread out over a wider range of characters numbers.\n"
   ]
  },
  {
   "cell_type": "code",
   "execution_count": 212,
   "id": "271b53e4",
   "metadata": {},
   "outputs": [
    {
     "data": {
      "text/plain": [
       "1    51.1\n",
       "0    48.9\n",
       "Name: street_parked, dtype: float64"
      ]
     },
     "execution_count": 212,
     "metadata": {},
     "output_type": "execute_result"
    }
   ],
   "source": [
    "# The percentage of street parked vehicles\n",
    "\n",
    "vehicles[\"street_parked\"].value_counts()*100/vehicles.shape[0]"
   ]
  },
  {
   "cell_type": "markdown",
   "id": "a0083195",
   "metadata": {},
   "source": [
    "Let's import the secound table to start the bivariable analysis"
   ]
  },
  {
   "cell_type": "code",
   "execution_count": 213,
   "id": "d4f21915",
   "metadata": {
    "scrolled": false
   },
   "outputs": [
    {
     "data": {
      "text/html": [
       "<div>\n",
       "<style scoped>\n",
       "    .dataframe tbody tr th:only-of-type {\n",
       "        vertical-align: middle;\n",
       "    }\n",
       "\n",
       "    .dataframe tbody tr th {\n",
       "        vertical-align: top;\n",
       "    }\n",
       "\n",
       "    .dataframe thead th {\n",
       "        text-align: right;\n",
       "    }\n",
       "</style>\n",
       "<table border=\"1\" class=\"dataframe\">\n",
       "  <thead>\n",
       "    <tr style=\"text-align: right;\">\n",
       "      <th></th>\n",
       "      <th>vehicle_id</th>\n",
       "      <th>reservation_type</th>\n",
       "    </tr>\n",
       "  </thead>\n",
       "  <tbody>\n",
       "    <tr>\n",
       "      <th>0</th>\n",
       "      <td>208</td>\n",
       "      <td>1</td>\n",
       "    </tr>\n",
       "    <tr>\n",
       "      <th>1</th>\n",
       "      <td>601</td>\n",
       "      <td>3</td>\n",
       "    </tr>\n",
       "    <tr>\n",
       "      <th>2</th>\n",
       "      <td>993</td>\n",
       "      <td>1</td>\n",
       "    </tr>\n",
       "    <tr>\n",
       "      <th>3</th>\n",
       "      <td>423</td>\n",
       "      <td>2</td>\n",
       "    </tr>\n",
       "    <tr>\n",
       "      <th>4</th>\n",
       "      <td>685</td>\n",
       "      <td>3</td>\n",
       "    </tr>\n",
       "    <tr>\n",
       "      <th>...</th>\n",
       "      <td>...</td>\n",
       "      <td>...</td>\n",
       "    </tr>\n",
       "    <tr>\n",
       "      <th>6371</th>\n",
       "      <td>812</td>\n",
       "      <td>3</td>\n",
       "    </tr>\n",
       "    <tr>\n",
       "      <th>6372</th>\n",
       "      <td>687</td>\n",
       "      <td>3</td>\n",
       "    </tr>\n",
       "    <tr>\n",
       "      <th>6373</th>\n",
       "      <td>812</td>\n",
       "      <td>3</td>\n",
       "    </tr>\n",
       "    <tr>\n",
       "      <th>6374</th>\n",
       "      <td>687</td>\n",
       "      <td>2</td>\n",
       "    </tr>\n",
       "    <tr>\n",
       "      <th>6375</th>\n",
       "      <td>687</td>\n",
       "      <td>2</td>\n",
       "    </tr>\n",
       "  </tbody>\n",
       "</table>\n",
       "<p>6376 rows × 2 columns</p>\n",
       "</div>"
      ],
      "text/plain": [
       "      vehicle_id  reservation_type\n",
       "0            208                 1\n",
       "1            601                 3\n",
       "2            993                 1\n",
       "3            423                 2\n",
       "4            685                 3\n",
       "...          ...               ...\n",
       "6371         812                 3\n",
       "6372         687                 3\n",
       "6373         812                 3\n",
       "6374         687                 2\n",
       "6375         687                 2\n",
       "\n",
       "[6376 rows x 2 columns]"
      ]
     },
     "execution_count": 213,
     "metadata": {},
     "output_type": "execute_result"
    }
   ],
   "source": [
    "# Importing the secound table of the data (reservations)\n",
    "# Please make sure to change the path according to the file placement\n",
    "\n",
    "path = \"/Users/mehdi/Downloads/Data Science Case Study/\"\n",
    "\n",
    "reservations = pd.read_csv(path + \"reservations.csv\")\n",
    "reservations"
   ]
  },
  {
   "cell_type": "code",
   "execution_count": 214,
   "id": "b330383c",
   "metadata": {
    "scrolled": false
   },
   "outputs": [
    {
     "data": {
      "text/html": [
       "<div>\n",
       "<style scoped>\n",
       "    .dataframe tbody tr th:only-of-type {\n",
       "        vertical-align: middle;\n",
       "    }\n",
       "\n",
       "    .dataframe tbody tr th {\n",
       "        vertical-align: top;\n",
       "    }\n",
       "\n",
       "    .dataframe thead th {\n",
       "        text-align: right;\n",
       "    }\n",
       "</style>\n",
       "<table border=\"1\" class=\"dataframe\">\n",
       "  <thead>\n",
       "    <tr style=\"text-align: right;\">\n",
       "      <th></th>\n",
       "      <th>vehicle_id</th>\n",
       "      <th>daily_rental</th>\n",
       "      <th>hourly_rental</th>\n",
       "      <th>weekly_rental</th>\n",
       "    </tr>\n",
       "  </thead>\n",
       "  <tbody>\n",
       "    <tr>\n",
       "      <th>0</th>\n",
       "      <td>1</td>\n",
       "      <td>0</td>\n",
       "      <td>1</td>\n",
       "      <td>0</td>\n",
       "    </tr>\n",
       "    <tr>\n",
       "      <th>1</th>\n",
       "      <td>2</td>\n",
       "      <td>3</td>\n",
       "      <td>4</td>\n",
       "      <td>0</td>\n",
       "    </tr>\n",
       "    <tr>\n",
       "      <th>2</th>\n",
       "      <td>3</td>\n",
       "      <td>9</td>\n",
       "      <td>1</td>\n",
       "      <td>7</td>\n",
       "    </tr>\n",
       "    <tr>\n",
       "      <th>3</th>\n",
       "      <td>4</td>\n",
       "      <td>0</td>\n",
       "      <td>1</td>\n",
       "      <td>1</td>\n",
       "    </tr>\n",
       "    <tr>\n",
       "      <th>4</th>\n",
       "      <td>5</td>\n",
       "      <td>1</td>\n",
       "      <td>0</td>\n",
       "      <td>1</td>\n",
       "    </tr>\n",
       "    <tr>\n",
       "      <th>...</th>\n",
       "      <td>...</td>\n",
       "      <td>...</td>\n",
       "      <td>...</td>\n",
       "      <td>...</td>\n",
       "    </tr>\n",
       "    <tr>\n",
       "      <th>906</th>\n",
       "      <td>996</td>\n",
       "      <td>10</td>\n",
       "      <td>4</td>\n",
       "      <td>5</td>\n",
       "    </tr>\n",
       "    <tr>\n",
       "      <th>907</th>\n",
       "      <td>997</td>\n",
       "      <td>1</td>\n",
       "      <td>5</td>\n",
       "      <td>3</td>\n",
       "    </tr>\n",
       "    <tr>\n",
       "      <th>908</th>\n",
       "      <td>998</td>\n",
       "      <td>2</td>\n",
       "      <td>3</td>\n",
       "      <td>1</td>\n",
       "    </tr>\n",
       "    <tr>\n",
       "      <th>909</th>\n",
       "      <td>999</td>\n",
       "      <td>1</td>\n",
       "      <td>1</td>\n",
       "      <td>7</td>\n",
       "    </tr>\n",
       "    <tr>\n",
       "      <th>910</th>\n",
       "      <td>1000</td>\n",
       "      <td>4</td>\n",
       "      <td>1</td>\n",
       "      <td>2</td>\n",
       "    </tr>\n",
       "  </tbody>\n",
       "</table>\n",
       "<p>911 rows × 4 columns</p>\n",
       "</div>"
      ],
      "text/plain": [
       "     vehicle_id  daily_rental  hourly_rental  weekly_rental\n",
       "0             1             0              1              0\n",
       "1             2             3              4              0\n",
       "2             3             9              1              7\n",
       "3             4             0              1              1\n",
       "4             5             1              0              1\n",
       "..          ...           ...            ...            ...\n",
       "906         996            10              4              5\n",
       "907         997             1              5              3\n",
       "908         998             2              3              1\n",
       "909         999             1              1              7\n",
       "910        1000             4              1              2\n",
       "\n",
       "[911 rows x 4 columns]"
      ]
     },
     "execution_count": 214,
     "metadata": {},
     "output_type": "execute_result"
    }
   ],
   "source": [
    "# Replacing the reservation type number with its signification\n",
    "reservations[\"reservation_type\"] = reservations[\"reservation_type\"].replace({1:\"hourly_rental\",\n",
    "                                                                             2:\"daily_rental\",3:\"weekly_rental\"})\n",
    "\n",
    "# Aggregating the table to have the number of reservation for each vehicle and each reservation type\n",
    "df = reservations.groupby([\"vehicle_id\",\"reservation_type\"]).size().reset_index(name = 'count')\n",
    "\n",
    "# Pivoting the table to have a better look on information inside\n",
    "df = df.pivot_table(columns = \"reservation_type\", index = \"vehicle_id\", values = \"count\").reset_index()\n",
    "\n",
    "# Filling the null values which represents no reservation with 0\n",
    "df = df.fillna(0)\n",
    "df = df.rename_axis(None, axis=1)\n",
    "\n",
    "df['daily_rental'] = df['daily_rental'].astype(int)\n",
    "df['hourly_rental'] = df['hourly_rental'].astype(int)\n",
    "df['weekly_rental'] = df['weekly_rental'].astype(int)\n",
    "\n",
    "df"
   ]
  },
  {
   "cell_type": "code",
   "execution_count": 215,
   "id": "9ee45b5d",
   "metadata": {},
   "outputs": [
    {
     "data": {
      "text/html": [
       "<div>\n",
       "<style scoped>\n",
       "    .dataframe tbody tr th:only-of-type {\n",
       "        vertical-align: middle;\n",
       "    }\n",
       "\n",
       "    .dataframe tbody tr th {\n",
       "        vertical-align: top;\n",
       "    }\n",
       "\n",
       "    .dataframe thead th {\n",
       "        text-align: right;\n",
       "    }\n",
       "</style>\n",
       "<table border=\"1\" class=\"dataframe\">\n",
       "  <thead>\n",
       "    <tr style=\"text-align: right;\">\n",
       "      <th></th>\n",
       "      <th>daily_rental</th>\n",
       "      <th>hourly_rental</th>\n",
       "      <th>weekly_rental</th>\n",
       "    </tr>\n",
       "  </thead>\n",
       "  <tbody>\n",
       "    <tr>\n",
       "      <th>count</th>\n",
       "      <td>911.000000</td>\n",
       "      <td>911.000000</td>\n",
       "      <td>911.000000</td>\n",
       "    </tr>\n",
       "    <tr>\n",
       "      <th>mean</th>\n",
       "      <td>2.257958</td>\n",
       "      <td>2.567508</td>\n",
       "      <td>2.173436</td>\n",
       "    </tr>\n",
       "    <tr>\n",
       "      <th>std</th>\n",
       "      <td>1.913049</td>\n",
       "      <td>2.244309</td>\n",
       "      <td>1.830930</td>\n",
       "    </tr>\n",
       "    <tr>\n",
       "      <th>min</th>\n",
       "      <td>0.000000</td>\n",
       "      <td>0.000000</td>\n",
       "      <td>0.000000</td>\n",
       "    </tr>\n",
       "    <tr>\n",
       "      <th>25%</th>\n",
       "      <td>1.000000</td>\n",
       "      <td>1.000000</td>\n",
       "      <td>1.000000</td>\n",
       "    </tr>\n",
       "    <tr>\n",
       "      <th>50%</th>\n",
       "      <td>2.000000</td>\n",
       "      <td>2.000000</td>\n",
       "      <td>2.000000</td>\n",
       "    </tr>\n",
       "    <tr>\n",
       "      <th>75%</th>\n",
       "      <td>3.000000</td>\n",
       "      <td>4.000000</td>\n",
       "      <td>3.000000</td>\n",
       "    </tr>\n",
       "    <tr>\n",
       "      <th>max</th>\n",
       "      <td>12.000000</td>\n",
       "      <td>14.000000</td>\n",
       "      <td>12.000000</td>\n",
       "    </tr>\n",
       "  </tbody>\n",
       "</table>\n",
       "</div>"
      ],
      "text/plain": [
       "       daily_rental  hourly_rental  weekly_rental\n",
       "count    911.000000     911.000000     911.000000\n",
       "mean       2.257958       2.567508       2.173436\n",
       "std        1.913049       2.244309       1.830930\n",
       "min        0.000000       0.000000       0.000000\n",
       "25%        1.000000       1.000000       1.000000\n",
       "50%        2.000000       2.000000       2.000000\n",
       "75%        3.000000       4.000000       3.000000\n",
       "max       12.000000      14.000000      12.000000"
      ]
     },
     "execution_count": 215,
     "metadata": {},
     "output_type": "execute_result"
    }
   ],
   "source": [
    "# Statistical informations\n",
    "df[['daily_rental', 'hourly_rental', 'weekly_rental']].describe()"
   ]
  },
  {
   "cell_type": "markdown",
   "id": "7a0f201a",
   "metadata": {},
   "source": [
    "**NB :** We notice that 90 vehicles are missing on this table, and it's mainly because they don't have any reservation. But it's interesting to include them to try to undertand why those vehiles doesn't have reservations"
   ]
  },
  {
   "cell_type": "code",
   "execution_count": 216,
   "id": "7ec4d2cd",
   "metadata": {},
   "outputs": [
    {
     "data": {
      "text/html": [
       "<div>\n",
       "<style scoped>\n",
       "    .dataframe tbody tr th:only-of-type {\n",
       "        vertical-align: middle;\n",
       "    }\n",
       "\n",
       "    .dataframe tbody tr th {\n",
       "        vertical-align: top;\n",
       "    }\n",
       "\n",
       "    .dataframe thead th {\n",
       "        text-align: right;\n",
       "    }\n",
       "</style>\n",
       "<table border=\"1\" class=\"dataframe\">\n",
       "  <thead>\n",
       "    <tr style=\"text-align: right;\">\n",
       "      <th></th>\n",
       "      <th>vehicle_id</th>\n",
       "      <th>daily_rental</th>\n",
       "      <th>hourly_rental</th>\n",
       "      <th>weekly_rental</th>\n",
       "    </tr>\n",
       "  </thead>\n",
       "  <tbody>\n",
       "    <tr>\n",
       "      <th>0</th>\n",
       "      <td>1</td>\n",
       "      <td>0</td>\n",
       "      <td>1</td>\n",
       "      <td>0</td>\n",
       "    </tr>\n",
       "    <tr>\n",
       "      <th>1</th>\n",
       "      <td>2</td>\n",
       "      <td>3</td>\n",
       "      <td>4</td>\n",
       "      <td>0</td>\n",
       "    </tr>\n",
       "    <tr>\n",
       "      <th>2</th>\n",
       "      <td>3</td>\n",
       "      <td>9</td>\n",
       "      <td>1</td>\n",
       "      <td>7</td>\n",
       "    </tr>\n",
       "    <tr>\n",
       "      <th>3</th>\n",
       "      <td>4</td>\n",
       "      <td>0</td>\n",
       "      <td>1</td>\n",
       "      <td>1</td>\n",
       "    </tr>\n",
       "    <tr>\n",
       "      <th>4</th>\n",
       "      <td>5</td>\n",
       "      <td>1</td>\n",
       "      <td>0</td>\n",
       "      <td>1</td>\n",
       "    </tr>\n",
       "    <tr>\n",
       "      <th>...</th>\n",
       "      <td>...</td>\n",
       "      <td>...</td>\n",
       "      <td>...</td>\n",
       "      <td>...</td>\n",
       "    </tr>\n",
       "    <tr>\n",
       "      <th>995</th>\n",
       "      <td>969</td>\n",
       "      <td>0</td>\n",
       "      <td>0</td>\n",
       "      <td>0</td>\n",
       "    </tr>\n",
       "    <tr>\n",
       "      <th>996</th>\n",
       "      <td>972</td>\n",
       "      <td>0</td>\n",
       "      <td>0</td>\n",
       "      <td>0</td>\n",
       "    </tr>\n",
       "    <tr>\n",
       "      <th>997</th>\n",
       "      <td>973</td>\n",
       "      <td>0</td>\n",
       "      <td>0</td>\n",
       "      <td>0</td>\n",
       "    </tr>\n",
       "    <tr>\n",
       "      <th>998</th>\n",
       "      <td>974</td>\n",
       "      <td>0</td>\n",
       "      <td>0</td>\n",
       "      <td>0</td>\n",
       "    </tr>\n",
       "    <tr>\n",
       "      <th>999</th>\n",
       "      <td>992</td>\n",
       "      <td>0</td>\n",
       "      <td>0</td>\n",
       "      <td>0</td>\n",
       "    </tr>\n",
       "  </tbody>\n",
       "</table>\n",
       "<p>1000 rows × 4 columns</p>\n",
       "</div>"
      ],
      "text/plain": [
       "     vehicle_id  daily_rental  hourly_rental  weekly_rental\n",
       "0             1             0              1              0\n",
       "1             2             3              4              0\n",
       "2             3             9              1              7\n",
       "3             4             0              1              1\n",
       "4             5             1              0              1\n",
       "..          ...           ...            ...            ...\n",
       "995         969             0              0              0\n",
       "996         972             0              0              0\n",
       "997         973             0              0              0\n",
       "998         974             0              0              0\n",
       "999         992             0              0              0\n",
       "\n",
       "[1000 rows x 4 columns]"
      ]
     },
     "execution_count": 216,
     "metadata": {},
     "output_type": "execute_result"
    }
   ],
   "source": [
    "# Let's add the missing vehicles \n",
    "\n",
    "missing_vehicle_ids = []\n",
    "\n",
    "for i in range(1,vehicles.shape[0]+1):\n",
    "    if i not in list(df[\"vehicle_id\"]):\n",
    "        missing_vehicle_ids.append(i)\n",
    "\n",
    "df = pd.concat([df,pd.DataFrame({\"vehicle_id\":missing_vehicle_ids,\n",
    "                                 \"daily_rental\":[0 for i in range(len(missing_vehicle_ids))],\n",
    "                                 \"hourly_rental\":[0 for i in range(len(missing_vehicle_ids))],\n",
    "                                 \"weekly_rental\":[0 for i in range(len(missing_vehicle_ids))]})], \n",
    "               axis = 0, ignore_index = True)\n",
    "        \n",
    "df"
   ]
  },
  {
   "cell_type": "code",
   "execution_count": 217,
   "id": "91052b4f",
   "metadata": {
    "scrolled": false
   },
   "outputs": [
    {
     "data": {
      "text/html": [
       "<div>\n",
       "<style scoped>\n",
       "    .dataframe tbody tr th:only-of-type {\n",
       "        vertical-align: middle;\n",
       "    }\n",
       "\n",
       "    .dataframe tbody tr th {\n",
       "        vertical-align: top;\n",
       "    }\n",
       "\n",
       "    .dataframe thead th {\n",
       "        text-align: right;\n",
       "    }\n",
       "</style>\n",
       "<table border=\"1\" class=\"dataframe\">\n",
       "  <thead>\n",
       "    <tr style=\"text-align: right;\">\n",
       "      <th></th>\n",
       "      <th>vehicle_id</th>\n",
       "      <th>technology</th>\n",
       "      <th>actual_price</th>\n",
       "      <th>recommended_price</th>\n",
       "      <th>num_images</th>\n",
       "      <th>street_parked</th>\n",
       "      <th>description</th>\n",
       "      <th>daily_rental</th>\n",
       "      <th>hourly_rental</th>\n",
       "      <th>weekly_rental</th>\n",
       "      <th>Total_reservation</th>\n",
       "    </tr>\n",
       "  </thead>\n",
       "  <tbody>\n",
       "    <tr>\n",
       "      <th>0</th>\n",
       "      <td>1</td>\n",
       "      <td>1</td>\n",
       "      <td>67.85</td>\n",
       "      <td>59</td>\n",
       "      <td>5</td>\n",
       "      <td>0</td>\n",
       "      <td>7</td>\n",
       "      <td>0</td>\n",
       "      <td>1</td>\n",
       "      <td>0</td>\n",
       "      <td>1</td>\n",
       "    </tr>\n",
       "    <tr>\n",
       "      <th>1</th>\n",
       "      <td>2</td>\n",
       "      <td>0</td>\n",
       "      <td>100.70</td>\n",
       "      <td>53</td>\n",
       "      <td>5</td>\n",
       "      <td>0</td>\n",
       "      <td>224</td>\n",
       "      <td>3</td>\n",
       "      <td>4</td>\n",
       "      <td>0</td>\n",
       "      <td>7</td>\n",
       "    </tr>\n",
       "    <tr>\n",
       "      <th>2</th>\n",
       "      <td>3</td>\n",
       "      <td>0</td>\n",
       "      <td>74.00</td>\n",
       "      <td>74</td>\n",
       "      <td>4</td>\n",
       "      <td>1</td>\n",
       "      <td>21</td>\n",
       "      <td>9</td>\n",
       "      <td>1</td>\n",
       "      <td>7</td>\n",
       "      <td>17</td>\n",
       "    </tr>\n",
       "    <tr>\n",
       "      <th>3</th>\n",
       "      <td>4</td>\n",
       "      <td>0</td>\n",
       "      <td>135.00</td>\n",
       "      <td>75</td>\n",
       "      <td>1</td>\n",
       "      <td>0</td>\n",
       "      <td>184</td>\n",
       "      <td>0</td>\n",
       "      <td>1</td>\n",
       "      <td>1</td>\n",
       "      <td>2</td>\n",
       "    </tr>\n",
       "    <tr>\n",
       "      <th>4</th>\n",
       "      <td>5</td>\n",
       "      <td>0</td>\n",
       "      <td>59.36</td>\n",
       "      <td>53</td>\n",
       "      <td>2</td>\n",
       "      <td>1</td>\n",
       "      <td>31</td>\n",
       "      <td>1</td>\n",
       "      <td>0</td>\n",
       "      <td>1</td>\n",
       "      <td>2</td>\n",
       "    </tr>\n",
       "  </tbody>\n",
       "</table>\n",
       "</div>"
      ],
      "text/plain": [
       "   vehicle_id  technology  actual_price  recommended_price  num_images  \\\n",
       "0           1           1         67.85                 59           5   \n",
       "1           2           0        100.70                 53           5   \n",
       "2           3           0         74.00                 74           4   \n",
       "3           4           0        135.00                 75           1   \n",
       "4           5           0         59.36                 53           2   \n",
       "\n",
       "   street_parked  description  daily_rental  hourly_rental  weekly_rental  \\\n",
       "0              0            7             0              1              0   \n",
       "1              0          224             3              4              0   \n",
       "2              1           21             9              1              7   \n",
       "3              0          184             0              1              1   \n",
       "4              1           31             1              0              1   \n",
       "\n",
       "   Total_reservation  \n",
       "0                  1  \n",
       "1                  7  \n",
       "2                 17  \n",
       "3                  2  \n",
       "4                  2  "
      ]
     },
     "execution_count": 217,
     "metadata": {},
     "output_type": "execute_result"
    }
   ],
   "source": [
    "# Merging the 2 tables \n",
    "\n",
    "df_final = pd.merge(vehicles, df, on = [\"vehicle_id\"])\n",
    "df_final[\"Total_reservation\"] = df_final[\"daily_rental\"] + df_final[\"hourly_rental\"] + df_final[\"weekly_rental\"]\n",
    "df_final.head()\n"
   ]
  },
  {
   "cell_type": "markdown",
   "id": "b7acd5fa",
   "metadata": {},
   "source": [
    "The difference between the recommanded price and the actual price can be also affecting the total reservation, if an annouce has a high price compared to the recommanded one the car can be overvalued and then less reservations.  \n",
    "Let's analyze this more deeper in the next steps"
   ]
  },
  {
   "cell_type": "code",
   "execution_count": 218,
   "id": "0e932ef4",
   "metadata": {},
   "outputs": [
    {
     "data": {
      "text/html": [
       "<div>\n",
       "<style scoped>\n",
       "    .dataframe tbody tr th:only-of-type {\n",
       "        vertical-align: middle;\n",
       "    }\n",
       "\n",
       "    .dataframe tbody tr th {\n",
       "        vertical-align: top;\n",
       "    }\n",
       "\n",
       "    .dataframe thead th {\n",
       "        text-align: right;\n",
       "    }\n",
       "</style>\n",
       "<table border=\"1\" class=\"dataframe\">\n",
       "  <thead>\n",
       "    <tr style=\"text-align: right;\">\n",
       "      <th></th>\n",
       "      <th>vehicle_id</th>\n",
       "      <th>technology</th>\n",
       "      <th>actual_price</th>\n",
       "      <th>recommended_price</th>\n",
       "      <th>num_images</th>\n",
       "      <th>street_parked</th>\n",
       "      <th>description</th>\n",
       "      <th>daily_rental</th>\n",
       "      <th>hourly_rental</th>\n",
       "      <th>weekly_rental</th>\n",
       "      <th>Total_reservation</th>\n",
       "      <th>price margin</th>\n",
       "    </tr>\n",
       "  </thead>\n",
       "  <tbody>\n",
       "    <tr>\n",
       "      <th>0</th>\n",
       "      <td>1</td>\n",
       "      <td>1</td>\n",
       "      <td>67.85</td>\n",
       "      <td>59</td>\n",
       "      <td>5</td>\n",
       "      <td>0</td>\n",
       "      <td>7</td>\n",
       "      <td>0</td>\n",
       "      <td>1</td>\n",
       "      <td>0</td>\n",
       "      <td>1</td>\n",
       "      <td>8.85</td>\n",
       "    </tr>\n",
       "    <tr>\n",
       "      <th>1</th>\n",
       "      <td>2</td>\n",
       "      <td>0</td>\n",
       "      <td>100.70</td>\n",
       "      <td>53</td>\n",
       "      <td>5</td>\n",
       "      <td>0</td>\n",
       "      <td>224</td>\n",
       "      <td>3</td>\n",
       "      <td>4</td>\n",
       "      <td>0</td>\n",
       "      <td>7</td>\n",
       "      <td>47.70</td>\n",
       "    </tr>\n",
       "    <tr>\n",
       "      <th>2</th>\n",
       "      <td>3</td>\n",
       "      <td>0</td>\n",
       "      <td>74.00</td>\n",
       "      <td>74</td>\n",
       "      <td>4</td>\n",
       "      <td>1</td>\n",
       "      <td>21</td>\n",
       "      <td>9</td>\n",
       "      <td>1</td>\n",
       "      <td>7</td>\n",
       "      <td>17</td>\n",
       "      <td>0.00</td>\n",
       "    </tr>\n",
       "    <tr>\n",
       "      <th>3</th>\n",
       "      <td>4</td>\n",
       "      <td>0</td>\n",
       "      <td>135.00</td>\n",
       "      <td>75</td>\n",
       "      <td>1</td>\n",
       "      <td>0</td>\n",
       "      <td>184</td>\n",
       "      <td>0</td>\n",
       "      <td>1</td>\n",
       "      <td>1</td>\n",
       "      <td>2</td>\n",
       "      <td>60.00</td>\n",
       "    </tr>\n",
       "    <tr>\n",
       "      <th>4</th>\n",
       "      <td>5</td>\n",
       "      <td>0</td>\n",
       "      <td>59.36</td>\n",
       "      <td>53</td>\n",
       "      <td>2</td>\n",
       "      <td>1</td>\n",
       "      <td>31</td>\n",
       "      <td>1</td>\n",
       "      <td>0</td>\n",
       "      <td>1</td>\n",
       "      <td>2</td>\n",
       "      <td>6.36</td>\n",
       "    </tr>\n",
       "  </tbody>\n",
       "</table>\n",
       "</div>"
      ],
      "text/plain": [
       "   vehicle_id  technology  actual_price  recommended_price  num_images  \\\n",
       "0           1           1         67.85                 59           5   \n",
       "1           2           0        100.70                 53           5   \n",
       "2           3           0         74.00                 74           4   \n",
       "3           4           0        135.00                 75           1   \n",
       "4           5           0         59.36                 53           2   \n",
       "\n",
       "   street_parked  description  daily_rental  hourly_rental  weekly_rental  \\\n",
       "0              0            7             0              1              0   \n",
       "1              0          224             3              4              0   \n",
       "2              1           21             9              1              7   \n",
       "3              0          184             0              1              1   \n",
       "4              1           31             1              0              1   \n",
       "\n",
       "   Total_reservation  price margin  \n",
       "0                  1          8.85  \n",
       "1                  7         47.70  \n",
       "2                 17          0.00  \n",
       "3                  2         60.00  \n",
       "4                  2          6.36  "
      ]
     },
     "execution_count": 218,
     "metadata": {},
     "output_type": "execute_result"
    }
   ],
   "source": [
    "df_final[\"price margin\"] = df_final[\"actual_price\"] - df_final[\"recommended_price\"]\n",
    "df_final.head()"
   ]
  },
  {
   "cell_type": "markdown",
   "id": "9a0eaed6",
   "metadata": {},
   "source": [
    "**Nb :**   The objectif of this analysis is to analyze the features that are impacting the total reservations so we will focus only on the total reservations\n",
    "\n"
   ]
  },
  {
   "cell_type": "code",
   "execution_count": 219,
   "id": "c4efaa5d",
   "metadata": {
    "scrolled": false
   },
   "outputs": [
    {
     "data": {
      "text/plain": [
       "actual_price        -0.258907\n",
       "recommended_price   -0.012758\n",
       "num_images           0.219804\n",
       "description          0.016303\n",
       "price margin        -0.367182\n",
       "dtype: float64"
      ]
     },
     "execution_count": 219,
     "metadata": {},
     "output_type": "execute_result"
    }
   ],
   "source": [
    "# The correlation is a good way to analyze the linearity between 2 numerical variables, so let's calculate that\n",
    "\n",
    "df_final[['actual_price', 'recommended_price','num_images', 'description', \"price margin\"]].corrwith(df_final[\"Total_reservation\"])\n"
   ]
  },
  {
   "cell_type": "markdown",
   "id": "206b84bb",
   "metadata": {},
   "source": [
    "**Results :**  \n",
    "  \n",
    "- Very low correlation near to 0 between the recommanded price and the Total reservations and between the description and the total reservations. Which means that those variables are not correlated.  \n",
    "\n",
    "- The highest correlation is between the price margin and the total reservations. -36% is not a high correlation but a moderate one, we can say that there is a linear relation between the 2 variables but not a strong one (we will test the significativity of this relation after that). It's also a negative correlations so the variables have opposit directions (the highest the price the lowest the number of reservations).  \n",
    "\n",
    "- The other correlations \"actual price\" vs \"Total reservations\" and \"num_images\" vs \"Total reservations\" are weak negative correlation so the linear relationship between those variables is weak."
   ]
  },
  {
   "cell_type": "code",
   "execution_count": 220,
   "id": "5e3b1f88",
   "metadata": {
    "scrolled": true
   },
   "outputs": [
    {
     "name": "stdout",
     "output_type": "stream",
     "text": [
      "Valeur p - actual_price: 8.842701661943992e-17\n",
      "Valeur p - recommended_price: 0.6869793430751393\n",
      "Valeur p - num_images: 2.0915107731610384e-12\n",
      "Valeur p - description: 0.6066078891025712\n",
      "Valeur p - price margin: 2.8185469343529066e-33\n"
     ]
    }
   ],
   "source": [
    "# The pearson correlation test\n",
    "\n",
    "variables = ['actual_price', 'recommended_price', 'num_images', 'description', 'price margin']\n",
    "p_values = []\n",
    "for i in range(1,6):\n",
    "    p_values.append(pearsonr(list(df_final[variables[i-1]]), list(df_final[\"Total_reservation\"]))[1])\n",
    "    print(f\"Valeur p - {variables[i-1]}:\",p_values[i-1])\n",
    "\n",
    "\n"
   ]
  },
  {
   "cell_type": "markdown",
   "id": "83233574",
   "metadata": {},
   "source": [
    "**Results :**    \n",
    "  \n",
    "We can conclude that the correlation \"actual_price\" - \"Total_reservation\", \"num_images\" - \"Total_reservation\" and \"price margin\" - \"Total_reservation\" are statistically significant (p-value < 0.05) and the chance of having those correlations by pure chance are very low.     \n",
    "\n",
    "In the other hand the correlations \"description\" - \"Total_reservation\" and \"recommended_price\" - \"Total_reservation\" are not significant and they can easily be produced randomly"
   ]
  },
  {
   "cell_type": "code",
   "execution_count": 221,
   "id": "809bbda6",
   "metadata": {
    "scrolled": true
   },
   "outputs": [
    {
     "data": {
      "text/plain": [
       "technology\n",
       "0    6.075904\n",
       "1    7.841176\n",
       "dtype: float64"
      ]
     },
     "execution_count": 221,
     "metadata": {},
     "output_type": "execute_result"
    }
   ],
   "source": [
    "# Let's move now to the categorical variables\n",
    "\n",
    "# We will compute the mean of total reservation by category (having the technology or not)\n",
    "df_final.groupby([\"technology\"])[\"Total_reservation\"].agg(sum)/df_final[\"technology\"].value_counts()"
   ]
  },
  {
   "cell_type": "code",
   "execution_count": 223,
   "id": "000a83b2",
   "metadata": {
    "scrolled": false
   },
   "outputs": [
    {
     "data": {
      "text/plain": [
       "Text(0.5, 1.0, 'The distribution of total reservations by category of technology')"
      ]
     },
     "execution_count": 223,
     "metadata": {},
     "output_type": "execute_result"
    },
    {
     "data": {
      "image/png": "[encoded data removed]",
      "text/plain": [
       "<Figure size 640x480 with 1 Axes>"
      ]
     },
     "metadata": {},
     "output_type": "display_data"
    }
   ],
   "source": [
    "# The distribution of total reservations by category of technology\n",
    "\n",
    "sn.boxplot(y = \"Total_reservation\", data = df_final, x = \"technology\")\n",
    "plt.title(\"The distribution of total reservations by category of technology\")"
   ]
  },
  {
   "cell_type": "markdown",
   "id": "b7503ec7",
   "metadata": {},
   "source": [
    "We can notice in the boxes above that the cars having the technology have more reservations than the cars without technology. The median of the orange box is hier than the blue one and the distribution is wider and cover a bigger range of total reservations.  \n",
    "  \n",
    "Let's do a statistical test to analyze the relation between the 2 variables. One of the test that we can use is the U test of Mann-Whitney. This test is used between a numerical variable and a binary one to see if there is a diffenrence between the distrubutions of the numerical variable according to the binary variable.\n"
   ]
  },
  {
   "cell_type": "code",
   "execution_count": 197,
   "id": "88840fe9",
   "metadata": {},
   "outputs": [
    {
     "name": "stdout",
     "output_type": "stream",
     "text": [
      "The statistical test of Mann-Whitney : 81896.5\n",
      "P value : 0.0009135294338014848\n"
     ]
    }
   ],
   "source": [
    "# Seperate the groups according to the technology\n",
    "g1 = df_final.loc[df_final[\"technology\"]==1][\"Total_reservation\"]\n",
    "g2 = df_final.loc[df_final[\"technology\"]==0][\"Total_reservation\"]\n",
    "\n",
    "# The statistical test of Mann-Whitney\n",
    "u_statistic, p_value = mannwhitneyu(g1, g2)\n",
    "\n",
    "# printing the results\n",
    "print(\"The statistical test of Mann-Whitney :\", u_statistic)\n",
    "print(\"P value :\", p_value)"
   ]
  },
  {
   "cell_type": "markdown",
   "id": "0262bb90",
   "metadata": {},
   "source": [
    "**Results :** \n",
    "    \n",
    "The p-value is lower than 0.05 so there is a significant difference between the 2 distributions and the fact that a car is having the technology is affecting the number of reservations"
   ]
  },
  {
   "cell_type": "code",
   "execution_count": 198,
   "id": "99413e56",
   "metadata": {},
   "outputs": [
    {
     "data": {
      "text/plain": [
       "0    6.458078\n",
       "1    6.297456\n",
       "dtype: float64"
      ]
     },
     "execution_count": 198,
     "metadata": {},
     "output_type": "execute_result"
    }
   ],
   "source": [
    "# We will compute the mean of total reservations by category (parking_street or not)\n",
    "\n",
    "df_final.groupby([\"street_parked\"])[\"Total_reservation\"].agg(sum)/df_final[\"street_parked\"].value_counts()"
   ]
  },
  {
   "cell_type": "code",
   "execution_count": 224,
   "id": "ac30c8b9",
   "metadata": {
    "scrolled": false
   },
   "outputs": [
    {
     "data": {
      "text/plain": [
       "Text(0.5, 1.0, 'The distribution of total reservations by category of parking street')"
      ]
     },
     "execution_count": 224,
     "metadata": {},
     "output_type": "execute_result"
    },
    {
     "data": {
      "image/png": "[encoded data removed]",
      "text/plain": [
       "<Figure size 640x480 with 1 Axes>"
      ]
     },
     "metadata": {},
     "output_type": "display_data"
    }
   ],
   "source": [
    "# The distribution of total reservations by category of parking street\n",
    "\n",
    "sn.boxplot(y = \"Total_reservation\", data = df_final, x = \"street_parked\")\n",
    "plt.title(\"The distribution of total reservations by category of parking street\")"
   ]
  },
  {
   "cell_type": "markdown",
   "id": "8a5c2d34",
   "metadata": {},
   "source": [
    "**Results :**  \n",
    " \n",
    "We can't notice any difference between the 2 distributions, they seem identical with some small difference in their outliers, so we can have a first idea about the dependance between the variables but let's test that"
   ]
  },
  {
   "cell_type": "code",
   "execution_count": 202,
   "id": "08089430",
   "metadata": {},
   "outputs": [
    {
     "name": "stdout",
     "output_type": "stream",
     "text": [
      "Statistique du test U de Mann-Whitney : 123195.5\n",
      "Valeur p : 0.7017990879317433\n"
     ]
    }
   ],
   "source": [
    "# Seperate the groups according to the technology\n",
    "\n",
    "gg1 = df_final.loc[df_final[\"street_parked\"]==1][\"Total_reservation\"]\n",
    "gg2 = df_final.loc[df_final[\"street_parked\"]==0][\"Total_reservation\"]\n",
    "\n",
    "# The statistical test of Mann-Whitney\n",
    "u_statistic, p_value = mannwhitneyu(gg1, gg2)\n",
    "\n",
    "# Print the results\n",
    "print(\"Statistique du test U de Mann-Whitney :\", u_statistic)\n",
    "print(\"Valeur p :\", p_value)\n"
   ]
  },
  {
   "cell_type": "markdown",
   "id": "56e8e38d",
   "metadata": {},
   "source": [
    "**Results :**. \n",
    "      \n",
    "We can see that the p-value is higher than 0.05 so there is no significant difference between the 2 distributions"
   ]
  },
  {
   "cell_type": "markdown",
   "id": "7639e64c",
   "metadata": {},
   "source": [
    "## summary\n",
    "\n",
    "As a result of this analysis, we can consider that the factors that seems to be most important in driving the total reservations are the price margin and the technology. The actual price and the number of images come in a second slot with a weaker correlation.  \n",
    "\n",
    "We can conclude also that the cars with the technology have more reservations than the cars without and even the statistical test shows that there is a difference between the 2 distributions and having the technolgy is affecting the total reservations.  \n",
    "\n",
    "In this analysis we focused only on the total reservations but we could also go deeper by analysing the impact on each type of reservations (hourly, daily or weekly). \n",
    "\n",
    "We can also create a machine learning model to predict the total reservations if we had more data and analyze wihch factor is driving the prediction more"
   ]
  }
 ],
 "metadata": {
  "kernelspec": {
   "display_name": "Python 3 (ipykernel)",
   "language": "python",
   "name": "python3"
  },
  "language_info": {
   "codemirror_mode": {
    "name": "ipython",
    "version": 3
   },
   "file_extension": ".py",
   "mimetype": "text/x-python",
   "name": "python",
   "nbconvert_exporter": "python",
   "pygments_lexer": "ipython3",
   "version": "3.9.13"
  }
 },
 "nbformat": 4,
 "nbformat_minor": 5
}
